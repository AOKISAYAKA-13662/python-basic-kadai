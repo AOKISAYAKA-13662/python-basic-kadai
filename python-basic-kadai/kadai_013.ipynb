{
  "nbformat": 4,
  "nbformat_minor": 0,
  "metadata": {
    "colab": {
      "provenance": []
    },
    "kernelspec": {
      "name": "python3",
      "display_name": "Python 3"
    },
    "language_info": {
      "name": "python"
    }
  },
  "cells": [
    {
      "cell_type": "code",
      "execution_count": 5,
      "metadata": {
        "id": "l7aDcTdfST-7"
      },
      "outputs": [],
      "source": [
        "def add_product_tax(product, tax):\n",
        "  tax = tax / 100\n",
        "  total = product + (product * tax)\n",
        "  print(f\"{total}円です。\")"
      ]
    },
    {
      "cell_type": "code",
      "source": [
        "add_product_tax(100, 10)"
      ],
      "metadata": {
        "colab": {
          "base_uri": "https://localhost:8080/"
        },
        "id": "jwtrg0cpTCz2",
        "outputId": "86875d0d-1338-4994-d40e-3fe5d4dccd15"
      },
      "execution_count": 6,
      "outputs": [
        {
          "output_type": "stream",
          "name": "stdout",
          "text": [
            "110.0円です。\n"
          ]
        }
      ]
    },
    {
      "cell_type": "code",
      "source": [],
      "metadata": {
        "id": "7dGyWmxGTCsO"
      },
      "execution_count": null,
      "outputs": []
    },
    {
      "cell_type": "code",
      "source": [],
      "metadata": {
        "id": "5a89NBPCTClw"
      },
      "execution_count": null,
      "outputs": []
    },
    {
      "cell_type": "code",
      "source": [],
      "metadata": {
        "id": "62HLr_3TTCfM"
      },
      "execution_count": null,
      "outputs": []
    },
    {
      "cell_type": "code",
      "source": [],
      "metadata": {
        "id": "Jz9q23LlTCQZ"
      },
      "execution_count": null,
      "outputs": []
    },
    {
      "cell_type": "code",
      "source": [],
      "metadata": {
        "id": "Qm79WbBHTCNc"
      },
      "execution_count": null,
      "outputs": []
    }
  ]
}