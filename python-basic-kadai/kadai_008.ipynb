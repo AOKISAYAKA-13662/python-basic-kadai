{
  "nbformat": 4,
  "nbformat_minor": 0,
  "metadata": {
    "colab": {
      "provenance": []
    },
    "kernelspec": {
      "name": "python3",
      "display_name": "Python 3"
    },
    "language_info": {
      "name": "python"
    }
  },
  "cells": [
    {
      "cell_type": "markdown",
      "source": [
        "# 条件分岐のif文で処理を切り替えよう"
      ],
      "metadata": {
        "id": "J9aMzHzRDex0"
      }
    },
    {
      "cell_type": "code",
      "source": [
        "# 変数varに0～100までのランダムな整数を代入する\n",
        "var = 15\n"
      ],
      "metadata": {
        "id": "K85Fm8B3Dhfk"
      },
      "execution_count": 6,
      "outputs": []
    },
    {
      "cell_type": "code",
      "source": [
        "# 変数varの値が3の倍数なら「Fizz」、5の倍数なら「Buzz」、3の倍数と5の倍数の両方に該当する場合なら「FizzBuzz」、それ以外の場合は「変数varの値」を出力する\n",
        "if var % 15 == 0:\n",
        "    print(\"FizzBuzz\")\n",
        "elif var % 3 == 0:\n",
        "    print(\"Fizz\")\n",
        "elif var % 5 == 0:\n",
        "    print(\"Buzz\")\n",
        "else:\n",
        "    print(var)"
      ],
      "metadata": {
        "colab": {
          "base_uri": "https://localhost:8080/"
        },
        "id": "e_-Q1A0KDhco",
        "outputId": "80664bbe-c9e5-4f4f-e553-9e7da0960626"
      },
      "execution_count": 7,
      "outputs": [
        {
          "output_type": "stream",
          "name": "stdout",
          "text": [
            "FizzBuzz\n"
          ]
        }
      ]
    },
    {
      "cell_type": "code",
      "source": [],
      "metadata": {
        "id": "G-1EWe3gDhXb"
      },
      "execution_count": null,
      "outputs": []
    },
    {
      "cell_type": "code",
      "source": [],
      "metadata": {
        "id": "9fhuH3u0DhUj"
      },
      "execution_count": null,
      "outputs": []
    },
    {
      "cell_type": "code",
      "source": [],
      "metadata": {
        "id": "ngQTs_qYDhRg"
      },
      "execution_count": null,
      "outputs": []
    },
    {
      "cell_type": "code",
      "source": [],
      "metadata": {
        "id": "SYFFV5AfDhOv"
      },
      "execution_count": null,
      "outputs": []
    },
    {
      "cell_type": "code",
      "source": [],
      "metadata": {
        "id": "sST_xmh4DhLe"
      },
      "execution_count": null,
      "outputs": []
    },
    {
      "cell_type": "code",
      "source": [],
      "metadata": {
        "id": "lhJ_nLjtDhI1"
      },
      "execution_count": null,
      "outputs": []
    },
    {
      "cell_type": "code",
      "execution_count": null,
      "metadata": {
        "id": "0EFS_2pYDYB1"
      },
      "outputs": [],
      "source": []
    }
  ]
}