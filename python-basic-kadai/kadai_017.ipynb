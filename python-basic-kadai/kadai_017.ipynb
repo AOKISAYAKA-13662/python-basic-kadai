{
  "nbformat": 4,
  "nbformat_minor": 0,
  "metadata": {
    "colab": {
      "provenance": []
    },
    "kernelspec": {
      "name": "python3",
      "display_name": "Python 3"
    },
    "language_info": {
      "name": "python"
    }
  },
  "cells": [
    {
      "cell_type": "code",
      "execution_count": 3,
      "metadata": {
        "id": "jaX4ldaYIhOs"
      },
      "outputs": [],
      "source": [
        "# クラスを定義する。最初のinitial関数を定義する。\n",
        "class Human:\n",
        "    def __init__(self, name, age):\n",
        "        self.name = name\n",
        "        self.age = age\n",
        "# メソッドを定義する。check_adultでageが大人かどうか。\n",
        "    def check_adult(self):\n",
        "        if self.age >= 20:\n",
        "            print(\"大人です\")\n",
        "        else:\n",
        "            print(\"大人ではありません\")\n"
      ]
    },
    {
      "cell_type": "code",
      "source": [
        "# インスタンス生成\n",
        "human1 = Human(\"Bob\", 25)\n",
        "human2 = Human(\"Alice\", 15)\n",
        "human3 = Human(\"Tom\", 30)\n",
        "human4 = Human(\"Ken\", 10)"
      ],
      "metadata": {
        "id": "EhZs-wJRJIWC"
      },
      "execution_count": 4,
      "outputs": []
    },
    {
      "cell_type": "code",
      "source": [
        "human_list = [human1, human2, human3, human4]"
      ],
      "metadata": {
        "id": "A1kGTx4SJIEO"
      },
      "execution_count": 5,
      "outputs": []
    },
    {
      "cell_type": "code",
      "source": [
        "for human in human_list:\n",
        "    human.check_adult()"
      ],
      "metadata": {
        "colab": {
          "base_uri": "https://localhost:8080/"
        },
        "id": "15A4TDWyJH79",
        "outputId": "d514148b-1086-4b91-b775-fc0c1556bfc5"
      },
      "execution_count": 6,
      "outputs": [
        {
          "output_type": "stream",
          "name": "stdout",
          "text": [
            "大人です\n",
            "大人ではありません\n",
            "大人です\n",
            "大人ではありません\n"
          ]
        }
      ]
    },
    {
      "cell_type": "code",
      "source": [],
      "metadata": {
        "id": "BqUDZb5XJH21"
      },
      "execution_count": null,
      "outputs": []
    },
    {
      "cell_type": "code",
      "source": [],
      "metadata": {
        "id": "tkWG9_-QJHw_"
      },
      "execution_count": null,
      "outputs": []
    },
    {
      "cell_type": "code",
      "source": [],
      "metadata": {
        "id": "YhaUA8lZJHrs"
      },
      "execution_count": null,
      "outputs": []
    },
    {
      "cell_type": "code",
      "source": [],
      "metadata": {
        "id": "xzAlhOx7JHnZ"
      },
      "execution_count": null,
      "outputs": []
    }
  ]
}